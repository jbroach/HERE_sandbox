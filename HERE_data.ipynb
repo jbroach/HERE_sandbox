{
 "cells": [
  {
   "cell_type": "code",
   "execution_count": 1,
   "metadata": {},
   "outputs": [],
   "source": [
    "import pandas as pd\n",
    "import os\n",
    "\n",
    "drive_path = 'C:/Users/saavedrak/metro_work/HERE_sandbox/data/'\n",
    "file_name = 'contracted-Oregon_text_gn_link_5min_2017_05_02.txt'\n",
    "df = pd.read_csv(os.path.join(os.path.dirname('__file__'), drive_path + file_name))\n",
    "pd.set_option('display.max_columns', None)\n",
    "pd.set_option('display.max_rows', 500)\n"
   ]
  },
  {
   "cell_type": "code",
   "execution_count": 2,
   "metadata": {},
   "outputs": [],
   "source": [
    "def tt_by_hour(df_tt, hour):\n",
    "    \"\"\"Process hourly travel time averages.\"\"\"\n",
    "    df_tt = df_tt[df_tt['utc_time_id'].dt.hour.isin([hour])]\n",
    "    tmc_operations = ({'avg_travel_time': 'mean'})\n",
    "    df_tt = df_tt.groupby('source_id', as_index=False).agg(tmc_operations)\n",
    "    df_avg_tt = df_tt.rename(\n",
    "        columns={'avg_travel_time':'hour_{}_tt'.format(hour)})\n",
    "    return df_avg_tt\n",
    "\n",
    "def assemble_dataset():\n",
    "    pass\n",
    "\n",
    "\n",
    "def main():\n",
    "    df['utc_time_id'] = pd.to_datetime(df['utc_time_id'])\n",
    "    \n",
    "    df = df.dropna(how='all')\n",
    "\n",
    "    source_id = df['source_id'].drop_duplicates().values.tolist()\n",
    "    tmc_format = {'source_id': source_id}\n",
    "    df_tmc = pd.DataFrame.from_dict(tmc_format)\n",
    "\n",
    "    hours = list(range(0, 24))\n",
    "    for hour in hours:\n",
    "        df_time = tt_by_hour(df, hour)\n",
    "        df_tmc = pd.merge(df_tmc, df_time, on='source_id', how='left')\n",
    "\n",
    "    df_tmc.to_csv('may_2017.csv', index=False)"
   ]
  },
  {
   "cell_type": "code",
   "execution_count": 3,
   "metadata": {},
   "outputs": [],
   "source": [
    "main()"
   ]
  }
 ],
 "metadata": {
  "kernelspec": {
   "display_name": "Python 3",
   "language": "python",
   "name": "python3"
  },
  "language_info": {
   "codemirror_mode": {
    "name": "ipython",
    "version": 3
   },
   "file_extension": ".py",
   "mimetype": "text/x-python",
   "name": "python",
   "nbconvert_exporter": "python",
   "pygments_lexer": "ipython3",
   "version": "3.7.0"
  }
 },
 "nbformat": 4,
 "nbformat_minor": 2
}
