{
 "cells": [
  {
   "cell_type": "code",
   "execution_count": 1,
   "metadata": {},
   "outputs": [],
   "source": [
    "import pandas as pd\n",
    "import os"
   ]
  },
  {
   "cell_type": "code",
   "execution_count": 5,
   "metadata": {},
   "outputs": [],
   "source": [
    "def tt_by_hour(df_tt, hour):\n",
    "    \"\"\"Process hourly travel time averages.\"\"\"\n",
    "    df_tt = df_tt[df_tt['utc_time_id'].dt.hour.isin([hour])]\n",
    "    tmc_operations = ({'avg_travel_time': 'mean'})\n",
    "    df_tt = df_tt.groupby('source_id', as_index=False).agg(tmc_operations)\n",
    "    df_avg_tt = df_tt.rename(\n",
    "        columns={'avg_travel_time':'hour_{}_tt_min'.format(hour)})\n",
    "    return df_avg_tt\n",
    "\n",
    "\n",
    "def assemble_dataset():\n",
    "    drive_path = 'C:/Users/saavedrak/metro_work/HERE_sandbox/data/'\n",
    "    df_full = pd.DataFrame()\n",
    "    for file in os.listdir(drive_path):\n",
    "        df_temp = pd.read_csv(\n",
    "            os.path.join(os.path.dirname('__file__'), drive_path, file),\n",
    "            usecols=['source_ref', 'utc_time_id', 'source_id', 'avg_travel_time', 'avg_speed'])\n",
    "        df_full = pd.concat([df_full, df_temp])\n",
    "    return df_full"
   ]
  },
  {
   "cell_type": "code",
   "execution_count": 3,
   "metadata": {},
   "outputs": [
    {
     "data": {
      "text/plain": [
       "\"\\ndf = df.dropna(how='all')\\n\\nsource_id = df['source_id'].drop_duplicates().values.tolist()\\ntmc_format = {'source_id': source_id}\\ndf_tmc = pd.DataFrame.from_dict(tmc_format)\\n\""
      ]
     },
     "execution_count": 3,
     "metadata": {},
     "output_type": "execute_result"
    }
   ],
   "source": [
    "df = assemble_dataset()\n",
    "pd.set_option('display.max_columns', None)\n",
    "pd.set_option('display.max_rows', 50)\n",
    "\n",
    "df = df.loc[df['source_ref'] == 'tmc']\n",
    "\n",
    "\n",
    "df['utc_time_id'] = pd.to_datetime(df['utc_time_id'], errors='coerce')\n",
    "\n",
    "\n",
    "\"\"\"\n",
    "df = df.dropna(how='all')\n",
    "\n",
    "source_id = df['source_id'].drop_duplicates().values.tolist()\n",
    "tmc_format = {'source_id': source_id}\n",
    "df_tmc = pd.DataFrame.from_dict(tmc_format)\n",
    "\"\"\""
   ]
  },
  {
   "cell_type": "code",
   "execution_count": 4,
   "metadata": {},
   "outputs": [
    {
     "name": "stdout",
     "output_type": "stream",
     "text": [
      "                utc_time_id source_ref  source_id  avg_speed  avg_travel_time\n",
      "2       2017-05-02 07:00:00        tmc  114N51536      44.00             0.07\n",
      "3       2017-05-02 17:35:00        tmc  114N51536      41.89             0.08\n",
      "4       2017-05-02 07:05:00        tmc  114N51536      44.00             0.07\n",
      "5       2017-05-02 07:10:00        tmc  114N51536      46.87             0.07\n",
      "6       2017-05-02 07:15:00        tmc  114N51536      51.18             0.06\n",
      "7       2017-05-02 07:20:00        tmc  114N51536      51.18             0.06\n",
      "8       2017-05-02 07:25:00        tmc  114N51536      51.18             0.06\n",
      "9       2017-05-02 07:30:00        tmc  114N51536      51.18             0.06\n",
      "10      2017-05-02 07:35:00        tmc  114N51536      51.18             0.06\n",
      "11      2017-05-02 07:40:00        tmc  114N51536      45.44             0.07\n",
      "12      2017-05-02 07:45:00        tmc  114N51536      44.00             0.07\n",
      "13      2017-05-02 07:50:00        tmc  114N51536      44.00             0.07\n",
      "14      2017-05-02 07:55:00        tmc  114N51536      44.00             0.07\n",
      "15      2017-05-02 08:00:00        tmc  114N51536      44.00             0.07\n",
      "16      2017-05-02 08:05:00        tmc  114N51536      44.00             0.07\n",
      "17      2017-05-02 08:10:00        tmc  114N51536      44.00             0.07\n",
      "18      2017-05-02 08:15:00        tmc  114N51536      44.00             0.07\n",
      "19      2017-05-02 08:20:00        tmc  114N51536      44.00             0.07\n",
      "20      2017-05-02 08:25:00        tmc  114N51536      44.00             0.07\n",
      "21      2017-05-02 08:30:00        tmc  114N51536      44.00             0.07\n",
      "22      2017-05-02 08:35:00        tmc  114N51536      44.00             0.07\n",
      "23      2017-05-02 08:40:00        tmc  114N51536      44.00             0.07\n",
      "24      2017-05-02 08:45:00        tmc  114N51536      44.00             0.07\n",
      "25      2017-05-02 08:50:00        tmc  114N51536      44.00             0.07\n",
      "26      2017-05-02 08:55:00        tmc  114N51536      44.00             0.07\n",
      "...                     ...        ...        ...        ...              ...\n",
      "3197609 2017-05-03 04:55:00        tmc  114N50258      44.47             0.15\n",
      "3197610 2017-05-03 05:00:00        tmc  114N50258      44.47             0.15\n",
      "3197611 2017-05-03 05:05:00        tmc  114N50258      44.47             0.15\n",
      "3197612 2017-05-03 05:10:00        tmc  114N50258      44.47             0.15\n",
      "3197613 2017-05-03 05:15:00        tmc  114N50258      32.49             0.20\n",
      "3197614 2017-05-03 05:20:00        tmc  114N50258      33.23             0.20\n",
      "3197615 2017-05-03 05:25:00        tmc  114N50258      33.23             0.20\n",
      "3197616 2017-05-03 05:30:00        tmc  114N50258      33.23             0.20\n",
      "3197617 2017-05-03 05:35:00        tmc  114N50258      33.23             0.20\n",
      "3197618 2017-05-03 05:40:00        tmc  114N50258      35.58             0.19\n",
      "3197619 2017-05-03 05:45:00        tmc  114N50258      45.00             0.14\n",
      "3197620 2017-05-03 05:50:00        tmc  114N50258      45.00             0.14\n",
      "3197621 2017-05-03 05:55:00        tmc  114N50258      45.00             0.14\n",
      "3197622 2017-05-03 06:00:00        tmc  114N50258      45.80             0.14\n",
      "3197623 2017-05-03 06:05:00        tmc  114N50258      46.00             0.14\n",
      "3197624 2017-05-03 06:10:00        tmc  114N50258      46.00             0.14\n",
      "3197625 2017-05-03 06:15:00        tmc  114N50258      46.00             0.14\n",
      "3197626 2017-05-03 06:20:00        tmc  114N50258      46.00             0.14\n",
      "3197627 2017-05-03 06:25:00        tmc  114N50258      46.00             0.14\n",
      "3197628 2017-05-03 06:30:00        tmc  114N50258      46.00             0.14\n",
      "3197629 2017-05-03 06:35:00        tmc  114N50258      46.00             0.14\n",
      "3197630 2017-05-03 06:40:00        tmc  114N50258      46.00             0.14\n",
      "3197631 2017-05-03 06:45:00        tmc  114N50258      46.00             0.14\n",
      "3197632 2017-05-03 06:50:00        tmc  114N50258      46.00             0.14\n",
      "3197633 2017-05-03 06:55:00        tmc  114N50258      46.00             0.14\n",
      "\n",
      "[2271845 rows x 5 columns]\n"
     ]
    }
   ],
   "source": [
    "print(df)"
   ]
  },
  {
   "cell_type": "code",
   "execution_count": 4,
   "metadata": {},
   "outputs": [
    {
     "ename": "NameError",
     "evalue": "name 'df_tmc' is not defined",
     "output_type": "error",
     "traceback": [
      "\u001b[1;31m---------------------------------------------------------------------------\u001b[0m",
      "\u001b[1;31mNameError\u001b[0m                                 Traceback (most recent call last)",
      "\u001b[1;32m<ipython-input-4-44770b06fde5>\u001b[0m in \u001b[0;36m<module>\u001b[1;34m()\u001b[0m\n\u001b[0;32m      2\u001b[0m \u001b[1;32mfor\u001b[0m \u001b[0mhour\u001b[0m \u001b[1;32min\u001b[0m \u001b[0mhours\u001b[0m\u001b[1;33m:\u001b[0m\u001b[1;33m\u001b[0m\u001b[0m\n\u001b[0;32m      3\u001b[0m     \u001b[0mdf_time\u001b[0m \u001b[1;33m=\u001b[0m \u001b[0mtt_by_hour\u001b[0m\u001b[1;33m(\u001b[0m\u001b[0mdf\u001b[0m\u001b[1;33m,\u001b[0m \u001b[0mhour\u001b[0m\u001b[1;33m)\u001b[0m\u001b[1;33m\u001b[0m\u001b[0m\n\u001b[1;32m----> 4\u001b[1;33m     \u001b[0mdf_tmc\u001b[0m \u001b[1;33m=\u001b[0m \u001b[0mpd\u001b[0m\u001b[1;33m.\u001b[0m\u001b[0mmerge\u001b[0m\u001b[1;33m(\u001b[0m\u001b[0mdf_tmc\u001b[0m\u001b[1;33m,\u001b[0m \u001b[0mdf_time\u001b[0m\u001b[1;33m,\u001b[0m \u001b[0mon\u001b[0m\u001b[1;33m=\u001b[0m\u001b[1;34m'source_id'\u001b[0m\u001b[1;33m,\u001b[0m \u001b[0mhow\u001b[0m\u001b[1;33m=\u001b[0m\u001b[1;34m'left'\u001b[0m\u001b[1;33m)\u001b[0m\u001b[1;33m\u001b[0m\u001b[0m\n\u001b[0m\u001b[0;32m      5\u001b[0m \u001b[1;33m\u001b[0m\u001b[0m\n\u001b[0;32m      6\u001b[0m \u001b[0mdf_tmc\u001b[0m\u001b[1;33m.\u001b[0m\u001b[0mto_csv\u001b[0m\u001b[1;33m(\u001b[0m\u001b[1;34m'may_2017.csv'\u001b[0m\u001b[1;33m,\u001b[0m \u001b[0mindex\u001b[0m\u001b[1;33m=\u001b[0m\u001b[1;32mFalse\u001b[0m\u001b[1;33m)\u001b[0m\u001b[1;33m\u001b[0m\u001b[0m\n",
      "\u001b[1;31mNameError\u001b[0m: name 'df_tmc' is not defined"
     ]
    }
   ],
   "source": [
    "hours = list(range(0, 24))\n",
    "for hour in hours:\n",
    "    df_time = tt_by_hour(df, hour)\n",
    "    df_tmc = pd.merge(df_tmc, df_time, on='source_id', how='left')\n",
    "\n",
    "df_tmc.to_csv('may_2017.csv', index=False)"
   ]
  }
 ],
 "metadata": {
  "kernelspec": {
   "display_name": "Python 3",
   "language": "python",
   "name": "python3"
  },
  "language_info": {
   "codemirror_mode": {
    "name": "ipython",
    "version": 3
   },
   "file_extension": ".py",
   "mimetype": "text/x-python",
   "name": "python",
   "nbconvert_exporter": "python",
   "pygments_lexer": "ipython3",
   "version": "3.7.0"
  }
 },
 "nbformat": 4,
 "nbformat_minor": 2
}
